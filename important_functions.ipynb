{
 "cells": [
  {
   "cell_type": "code",
   "execution_count": null,
   "metadata": {},
   "outputs": [],
   "source": [
    "##Calculate transition probability matrix and entropy rate for a given sequence\n",
    "def Entropy_MC(s,b,k,beta,gamma):\n",
    "    #s = s\n",
    "    inv, l, n = k-b, len(s), 4**k\n",
    "    T=np.zeros((n,n))\n",
    "    count = [0]*n\n",
    "    word_list = [''.join(x) for x in itertools.product('acgt', repeat=k)]\n",
    "    wd = dict(zip(word_list, list(range(len(word_list)))))\n",
    "    uu = []\n",
    "    for i in range(k,l-b):\n",
    "        n1, n2 = wd[s[i-k:i]], wd[s[i-k+b:i+b]]\n",
    "        T[n1,n2] += 1\n",
    "        count[n1] += 1\n",
    "        \n",
    "    wo_next = [''.join(x) for x in itertools.product('acgt', repeat=b)]\n",
    "    for i in range(n):\n",
    "        wo = word_list[i]\n",
    "        for l in wo_next:\n",
    "            j = wd[wo[b:]+l]\n",
    "            T[i,j] = (T[i,j]+beta)/(count[i]+4**b*beta)\n",
    "    sum_count = np.sum(count)+4**k*gamma\n",
    "    \n",
    "    prob = [(count[i]+gamma)/sum_count for i in range(len(count))] \n",
    "    n = len(T)\n",
    "    H = 0\n",
    "    F = []\n",
    "    for i in range(n):\n",
    "        wo = word_list[i]\n",
    "        for l in wo_next:\n",
    "            j = wd[wo[b:]+l]\n",
    "            F.append(T[i,j])\n",
    "            H-=prob[i]*T[i,j]*np.log2(T[i,j])\n",
    "    return F,H"
   ]
  },
  {
   "cell_type": "code",
   "execution_count": null,
   "metadata": {},
   "outputs": [],
   "source": [
    "#calculate transition probability matrix or the fractal dimension for a set of sequences in the set s.\n",
    "def stats(s,b,k,beta,gamma):\n",
    "    F_list = []\n",
    "    en_list=[]\n",
    "    for i in range(len(s)):\n",
    "        F_1,en = Entropy_MC(s[i],b,k,beta,gamma) #Transition Probability vector\n",
    "        F = F_1 #Using Transition Probability vector\n",
    "        F_list.append(F)\n",
    "        en_list.append(en)\n",
    "    return F_list,en_list"
   ]
  },
  {
   "cell_type": "code",
   "execution_count": null,
   "metadata": {},
   "outputs": [],
   "source": [
    "#process sequences in a dictionary from a given fasta file acquired from GISAID.\n",
    "from collections import defaultdict\n",
    "def getSeqs(filename):\n",
    "    seq_list = defaultdict(list)\n",
    "    mapseq_list = defaultdict(list)\n",
    "    mapping = {'A': 'a', 'T': 't', 'C': 'c', 'G': 'g','a': 'a', 't': 't', 'c': 'c', 'g': 'g'}\n",
    "    with open(filename) as f:\n",
    "        j = -1\n",
    "        for i, line in enumerate(f):\n",
    "            if line.startswith('>'):\n",
    "                j += 1\n",
    "            else:\n",
    "                this_line = list(line)\n",
    "                this_line = list(filter(lambda ch: ch in 'acgtACGT', this_line))\n",
    "                seq_list[j].extend(this_line)\n",
    "                mapseq_list[j] = ''.join(list(map(lambda ch: mapping[ch], seq_list[j])))\n",
    "    return mapseq_list"
   ]
  }
 ],
 "metadata": {
  "kernelspec": {
   "display_name": "Python 3",
   "language": "python",
   "name": "python3"
  },
  "language_info": {
   "codemirror_mode": {
    "name": "ipython",
    "version": 3
   },
   "file_extension": ".py",
   "mimetype": "text/x-python",
   "name": "python",
   "nbconvert_exporter": "python",
   "pygments_lexer": "ipython3",
   "version": "3.7.5"
  }
 },
 "nbformat": 4,
 "nbformat_minor": 2
}

{
 "cells": [
  {
   "cell_type": "code",
   "execution_count": 3,
   "metadata": {},
   "outputs": [],
   "source": [
    "import numpy as np\n",
    "import os\n",
    "import scipy.stats as stats\n",
    "import scipy.io as io\n",
    "import networkx as nx\n",
    "import random\n",
    "import itertools\n",
    "import glob\n",
    "from scipy.stats import linregress\n",
    "import matplotlib.pyplot as plt\n",
    "from sklearn.linear_model import LogisticRegression\n",
    "from sklearn import metrics\n",
    "from sklearn import svm\n",
    "from sklearn.multiclass import OneVsRestClassifier\n",
    "from sklearn.model_selection import KFold\n",
    "from sklearn.metrics import accuracy_score, precision_score, recall_score, confusion_matrix,roc_curve,roc_auc_score\n",
    "from xgboost import XGBClassifier\n",
    "from sklearn import preprocessing\n",
    "from sklearn.ensemble import RandomForestClassifier\n",
    "from sklearn.feature_selection import SelectFromModel\n",
    "import seaborn as sns\n",
    "from scipy.io import loadmat, savemat\n",
    "#from fracModel import fracOrdUU\n",
    "from collections import Counter\n",
    "from collections import defaultdict\n",
    "from numpy import arange,array,ones,linalg\n",
    "from sklearn.linear_model import LinearRegression\n",
    "import pandas as pd\n",
    "import powerlaw\n",
    "import os.path\n",
    "from os import path"
   ]
  },
  {
   "cell_type": "code",
   "execution_count": 4,
   "metadata": {},
   "outputs": [],
   "source": [
    "from collections import defaultdict\n",
    "def getSeqs(filename):\n",
    "    seq_list = defaultdict(list)\n",
    "    mapseq_list = defaultdict(list)\n",
    "    mapping = {'A': 'a', 'T': 't', 'C': 'c', 'G': 'g','a': 'a', 't': 't', 'c': 'c', 'g': 'g'}\n",
    "    with open(filename) as f:\n",
    "        j = -1\n",
    "        for i, line in enumerate(f):\n",
    "            if line.startswith('>'):\n",
    "                j += 1\n",
    "            else:\n",
    "                this_line = list(line)\n",
    "                this_line = list(filter(lambda ch: ch in 'acgtACGT', this_line))\n",
    "                seq_list[j].extend(this_line)\n",
    "                mapseq_list[j] = ''.join(list(map(lambda ch: mapping[ch], seq_list[j])))\n",
    "    return mapseq_list"
   ]
  },
  {
   "cell_type": "code",
   "execution_count": null,
   "metadata": {},
   "outputs": [
    {
     "name": "stdout",
     "output_type": "stream",
     "text": [
      "['mar.fasta']\n"
     ]
    }
   ],
   "source": [
    "V = []\n",
    "filenames = glob.glob('mar.fasta')\n",
    "print(filenames)\n",
    "sequences = []\n",
    "for filename in filenames:\n",
    "    sequences.append(getSeqs(filename))  \n",
    "\n",
    "import pickle\n",
    "with open('mar.pkl','wb') as f:\n",
    "    pickle.dump([sequences],f)"
   ]
  },
  {
   "cell_type": "code",
   "execution_count": null,
   "metadata": {},
   "outputs": [],
   "source": []
  }
 ],
 "metadata": {
  "kernelspec": {
   "display_name": "Python 3",
   "language": "python",
   "name": "python3"
  },
  "language_info": {
   "codemirror_mode": {
    "name": "ipython",
    "version": 3
   },
   "file_extension": ".py",
   "mimetype": "text/x-python",
   "name": "python",
   "nbconvert_exporter": "python",
   "pygments_lexer": "ipython3",
   "version": "3.7.5"
  }
 },
 "nbformat": 4,
 "nbformat_minor": 2
}
